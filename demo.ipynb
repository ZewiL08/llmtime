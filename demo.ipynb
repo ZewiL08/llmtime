{
 "cells": [
  {
   "cell_type": "code",
   "execution_count": 1,
   "id": "42145ff5",
   "metadata": {},
   "outputs": [
    {
     "name": "stderr",
     "output_type": "stream",
     "text": [
      "/home/william/anaconda3/envs/llmtime/lib/python3.9/site-packages/tqdm/auto.py:21: TqdmWarning: IProgress not found. Please update jupyter and ipywidgets. See https://ipywidgets.readthedocs.io/en/stable/user_install.html\n",
      "  from .autonotebook import tqdm as notebook_tqdm\n",
      "/home/william/anaconda3/envs/llmtime/lib/python3.9/site-packages/statsforecast/utils.py:237: FutureWarning: 'M' is deprecated and will be removed in a future version, please use 'ME' instead.\n",
      "  \"ds\": pd.date_range(start=\"1949-01-01\", periods=len(AirPassengers), freq=\"M\"),\n"
     ]
    }
   ],
   "source": [
    "import os\n",
    "os.environ['OMP_NUM_THREADS'] = '4'\n",
    "import numpy as np\n",
    "import pandas as pd\n",
    "import matplotlib.pyplot as plt\n",
    "import openai\n",
    "openai.api_key = os.environ['OPENAI_API_KEY']\n",
    "openai.api_base = os.environ.get(\"OPENAI_API_BASE\", \"https://api.openai.com/v1\")\n",
    "from data.serialize import SerializerSettings\n",
    "from models.utils import grid_iter\n",
    "from models.promptcast import get_promptcast_predictions_data\n",
    "from models.darts import get_arima_predictions_data\n",
    "from models.llmtime import get_llmtime_predictions_data\n",
    "from data.small_context import get_datasets\n",
    "from models.validation_likelihood_tuning import get_autotuned_predictions_data\n",
    "\n",
    "%load_ext autoreload\n",
    "%autoreload 2\n",
    "\n",
    "def plot_preds(train, test, pred_dict, model_name, show_samples=False):\n",
    "    pred = pred_dict['median']\n",
    "    pred = pd.Series(pred, index=test.index)\n",
    "    plt.figure(figsize=(8, 6), dpi=100)\n",
    "    plt.plot(train)\n",
    "    plt.plot(test, label='Truth', color='black')\n",
    "    plt.plot(pred, label=model_name, color='purple')\n",
    "    # shade 90% confidence interval\n",
    "    samples = pred_dict['samples']\n",
    "    lower = np.quantile(samples, 0.05, axis=0)\n",
    "    upper = np.quantile(samples, 0.95, axis=0)\n",
    "    plt.fill_between(pred.index, lower, upper, alpha=0.3, color='purple')\n",
    "    if show_samples:\n",
    "        samples = pred_dict['samples']\n",
    "        # convert df to numpy array\n",
    "        samples = samples.values if isinstance(samples, pd.DataFrame) else samples\n",
    "        for i in range(min(10, samples.shape[0])):\n",
    "            plt.plot(pred.index, samples[i], color='purple', alpha=0.3, linewidth=1)\n",
    "    plt.legend(loc='upper left')\n",
    "    if 'NLL/D' in pred_dict:\n",
    "        nll = pred_dict['NLL/D']\n",
    "        if nll is not None:\n",
    "            plt.text(0.03, 0.85, f'NLL/D: {nll:.2f}', transform=plt.gca().transAxes, bbox=dict(facecolor='white', alpha=0.5))\n",
    "    plt.show()"
   ]
  },
  {
   "cell_type": "markdown",
   "id": "a1341ded",
   "metadata": {},
   "source": [
    "## Define models ##"
   ]
  },
  {
   "cell_type": "code",
   "execution_count": 2,
   "id": "1bdf1f3c",
   "metadata": {},
   "outputs": [],
   "source": [
    "gpt4_hypers = dict(\n",
    "    alpha=0.3,\n",
    "    basic=True,\n",
    "    temp=1.0,\n",
    "    top_p=0.8,\n",
    "    settings=SerializerSettings(base=10, prec=3, signed=True, time_sep=', ', bit_sep='', minus_sign='-')\n",
    ")\n",
    "\n",
    "gpt3_hypers = dict(\n",
    "    temp=0.7,\n",
    "    alpha=0.95,\n",
    "    beta=0.3,\n",
    "    basic=False,\n",
    "    settings=SerializerSettings(base=10, prec=3, signed=True, half_bin_correction=True)\n",
    ")\n",
    "\n",
    "\n",
    "promptcast_hypers = dict(\n",
    "    temp=0.7,\n",
    "    settings=SerializerSettings(base=10, prec=0, signed=True, \n",
    "                                time_sep=', ',\n",
    "                                bit_sep='',\n",
    "                                plus_sign='',\n",
    "                                minus_sign='-',\n",
    "                                half_bin_correction=False,\n",
    "                                decimal_point='')\n",
    ")\n",
    "\n",
    "arima_hypers = dict(p=[12,30], d=[1,2], q=[0])\n",
    "\n",
    "model_hypers = {\n",
    "    'LLMTime GPT-3.5': {'model': 'gpt-3.5-turbo-instruct', **gpt3_hypers},\n",
    "    'LLMTime GPT-4': {'model': 'gpt-4', **gpt4_hypers},\n",
    "    'LLMTime GPT-3': {'model': 'text-davinci-004', **gpt3_hypers},\n",
    "    'PromptCast GPT-3': {'model': 'text-davinci-004', **promptcast_hypers},\n",
    "    'ARIMA': arima_hypers,\n",
    "    \n",
    "}\n",
    "\n",
    "model_predict_fns = {\n",
    "    'LLMTime GPT-3': get_llmtime_predictions_data,\n",
    "    'LLMTime GPT-4': get_llmtime_predictions_data,\n",
    "    'PromptCast GPT-3': get_promptcast_predictions_data,\n",
    "    'ARIMA': get_arima_predictions_data,\n",
    "}\n",
    "\n",
    "model_names = list(model_predict_fns.keys())"
   ]
  },
  {
   "cell_type": "markdown",
   "id": "2da9a874",
   "metadata": {},
   "source": [
    "## Running LLMTime and Visualizing Results ##"
   ]
  },
  {
   "cell_type": "code",
   "execution_count": 3,
   "id": "ebc3ecb5",
   "metadata": {},
   "outputs": [
    {
     "name": "stdout",
     "output_type": "stream",
     "text": [
      "Sampling with best hyper... defaultdict(<class 'dict'>, {'model': 'text-davinci-004', 'temp': 0.7, 'alpha': 0.95, 'beta': 0.3, 'basic': False, 'settings': SerializerSettings(base=10, prec=3, signed=True, fixed_length=False, max_val=10000000.0, time_sep=' ,', bit_sep=' ', plus_sign='', minus_sign=' -', half_bin_correction=True, decimal_point='', missing_str=' Nan'), 'dataset_name': 'AirPassengersDataset'}) \n",
      " with NLL inf\n"
     ]
    },
    {
     "ename": "KeyError",
     "evalue": "'Could not automatically map text-davinci-004 to a tokeniser. Please use `tiktoken.get_encoding` to explicitly get the tokeniser you expect.'",
     "output_type": "error",
     "traceback": [
      "\u001b[0;31m---------------------------------------------------------------------------\u001b[0m",
      "\u001b[0;31mKeyError\u001b[0m                                  Traceback (most recent call last)",
      "\u001b[1;32m/home/william/Documents/nii/llmtime_github/llmtime/demo.ipynb Cell 5\u001b[0m line \u001b[0;36m1\n\u001b[1;32m      <a href='vscode-notebook-cell:/home/william/Documents/nii/llmtime_github/llmtime/demo.ipynb#W4sZmlsZQ%3D%3D?line=8'>9</a>\u001b[0m hypers \u001b[39m=\u001b[39m \u001b[39mlist\u001b[39m(grid_iter(model_hypers[model]))\n\u001b[1;32m     <a href='vscode-notebook-cell:/home/william/Documents/nii/llmtime_github/llmtime/demo.ipynb#W4sZmlsZQ%3D%3D?line=9'>10</a>\u001b[0m num_samples \u001b[39m=\u001b[39m \u001b[39m10\u001b[39m\n\u001b[0;32m---> <a href='vscode-notebook-cell:/home/william/Documents/nii/llmtime_github/llmtime/demo.ipynb#W4sZmlsZQ%3D%3D?line=10'>11</a>\u001b[0m pred_dict \u001b[39m=\u001b[39m get_autotuned_predictions_data(train, test, hypers, num_samples, model_predict_fns[model], verbose\u001b[39m=\u001b[39;49m\u001b[39mFalse\u001b[39;49;00m, parallel\u001b[39m=\u001b[39;49m\u001b[39mFalse\u001b[39;49;00m)\n\u001b[1;32m     <a href='vscode-notebook-cell:/home/william/Documents/nii/llmtime_github/llmtime/demo.ipynb#W4sZmlsZQ%3D%3D?line=11'>12</a>\u001b[0m out[model] \u001b[39m=\u001b[39m pred_dict\n\u001b[1;32m     <a href='vscode-notebook-cell:/home/william/Documents/nii/llmtime_github/llmtime/demo.ipynb#W4sZmlsZQ%3D%3D?line=12'>13</a>\u001b[0m plot_preds(train, test, pred_dict, model, show_samples\u001b[39m=\u001b[39m\u001b[39mTrue\u001b[39;00m)\n",
      "File \u001b[0;32m~/Documents/nii/llmtime_github/llmtime/models/validation_likelihood_tuning.py:119\u001b[0m, in \u001b[0;36mget_autotuned_predictions_data\u001b[0;34m(train, test, hypers, num_samples, get_predictions_fn, verbose, parallel, n_train, n_val)\u001b[0m\n\u001b[1;32m    117\u001b[0m     best_val_nll \u001b[39m=\u001b[39m \u001b[39mfloat\u001b[39m(\u001b[39m'\u001b[39m\u001b[39minf\u001b[39m\u001b[39m'\u001b[39m)\n\u001b[1;32m    118\u001b[0m \u001b[39mprint\u001b[39m(\u001b[39mf\u001b[39m\u001b[39m'\u001b[39m\u001b[39mSampling with best hyper... \u001b[39m\u001b[39m{\u001b[39;00mbest_hyper\u001b[39m}\u001b[39;00m\u001b[39m \u001b[39m\u001b[39m\\n\u001b[39;00m\u001b[39m with NLL \u001b[39m\u001b[39m{\u001b[39;00mbest_val_nll\u001b[39m:\u001b[39;00m\u001b[39m3f\u001b[39m\u001b[39m}\u001b[39;00m\u001b[39m'\u001b[39m)\n\u001b[0;32m--> 119\u001b[0m out \u001b[39m=\u001b[39m get_predictions_fn(train, test, \u001b[39m*\u001b[39;49m\u001b[39m*\u001b[39;49mbest_hyper, num_samples\u001b[39m=\u001b[39;49mnum_samples, n_train\u001b[39m=\u001b[39;49mn_train, parallel\u001b[39m=\u001b[39;49mparallel)\n\u001b[1;32m    120\u001b[0m out[\u001b[39m'\u001b[39m\u001b[39mbest_hyper\u001b[39m\u001b[39m'\u001b[39m]\u001b[39m=\u001b[39mconvert_to_dict(best_hyper)\n\u001b[1;32m    121\u001b[0m \u001b[39mreturn\u001b[39;00m out\n",
      "File \u001b[0;32m~/Documents/nii/llmtime_github/llmtime/models/llmtime.py:221\u001b[0m, in \u001b[0;36mget_llmtime_predictions_data\u001b[0;34m(train, test, model, settings, num_samples, temp, alpha, beta, basic, parallel, **kwargs)\u001b[0m\n\u001b[1;32m    219\u001b[0m input_strs \u001b[39m=\u001b[39m [serialize_arr(scaled_input_arr, settings) \u001b[39mfor\u001b[39;00m scaled_input_arr \u001b[39min\u001b[39;00m transformed_input_arrs]\n\u001b[1;32m    220\u001b[0m \u001b[39m# Truncate input_arrs to fit the maximum context length\u001b[39;00m\n\u001b[0;32m--> 221\u001b[0m input_arrs, input_strs \u001b[39m=\u001b[39m \u001b[39mzip\u001b[39m(\u001b[39m*\u001b[39m[truncate_input(input_array, input_str, settings, model, test_len) \u001b[39mfor\u001b[39;00m input_array, input_str \u001b[39min\u001b[39;00m \u001b[39mzip\u001b[39m(input_arrs, input_strs)])\n\u001b[1;32m    223\u001b[0m steps \u001b[39m=\u001b[39m test_len\n\u001b[1;32m    224\u001b[0m samples \u001b[39m=\u001b[39m \u001b[39mNone\u001b[39;00m\n",
      "File \u001b[0;32m~/Documents/nii/llmtime_github/llmtime/models/llmtime.py:221\u001b[0m, in \u001b[0;36m<listcomp>\u001b[0;34m(.0)\u001b[0m\n\u001b[1;32m    219\u001b[0m input_strs \u001b[39m=\u001b[39m [serialize_arr(scaled_input_arr, settings) \u001b[39mfor\u001b[39;00m scaled_input_arr \u001b[39min\u001b[39;00m transformed_input_arrs]\n\u001b[1;32m    220\u001b[0m \u001b[39m# Truncate input_arrs to fit the maximum context length\u001b[39;00m\n\u001b[0;32m--> 221\u001b[0m input_arrs, input_strs \u001b[39m=\u001b[39m \u001b[39mzip\u001b[39m(\u001b[39m*\u001b[39m[truncate_input(input_array, input_str, settings, model, test_len) \u001b[39mfor\u001b[39;00m input_array, input_str \u001b[39min\u001b[39;00m \u001b[39mzip\u001b[39m(input_arrs, input_strs)])\n\u001b[1;32m    223\u001b[0m steps \u001b[39m=\u001b[39m test_len\n\u001b[1;32m    224\u001b[0m samples \u001b[39m=\u001b[39m \u001b[39mNone\u001b[39;00m\n",
      "File \u001b[0;32m~/Documents/nii/llmtime_github/llmtime/models/llmtime.py:80\u001b[0m, in \u001b[0;36mtruncate_input\u001b[0;34m(input_arr, input_str, settings, model, steps)\u001b[0m\n\u001b[1;32m     78\u001b[0m \u001b[39mif\u001b[39;00m \u001b[39mnot\u001b[39;00m truncated_input_str\u001b[39m.\u001b[39mendswith(settings\u001b[39m.\u001b[39mtime_sep):\n\u001b[1;32m     79\u001b[0m     truncated_input_str \u001b[39m+\u001b[39m\u001b[39m=\u001b[39m settings\u001b[39m.\u001b[39mtime_sep\n\u001b[0;32m---> 80\u001b[0m input_tokens \u001b[39m=\u001b[39m tokenization_fn(truncated_input_str)\n\u001b[1;32m     81\u001b[0m num_input_tokens \u001b[39m=\u001b[39m \u001b[39mlen\u001b[39m(input_tokens)\n\u001b[1;32m     82\u001b[0m avg_token_length \u001b[39m=\u001b[39m num_input_tokens \u001b[39m/\u001b[39m (\u001b[39mlen\u001b[39m(input_str_chuncks) \u001b[39m-\u001b[39m i)\n",
      "File \u001b[0;32m~/Documents/nii/llmtime_github/llmtime/models/gpt.py:19\u001b[0m, in \u001b[0;36mtokenize_fn\u001b[0;34m(str, model)\u001b[0m\n\u001b[1;32m      8\u001b[0m \u001b[39mdef\u001b[39;00m \u001b[39mtokenize_fn\u001b[39m(\u001b[39mstr\u001b[39m, model):\n\u001b[1;32m      9\u001b[0m \u001b[39m    \u001b[39m\u001b[39m\"\"\"\u001b[39;00m\n\u001b[1;32m     10\u001b[0m \u001b[39m    Retrieve the token IDs for a string for a specific GPT model.\u001b[39;00m\n\u001b[1;32m     11\u001b[0m \n\u001b[0;32m   (...)\u001b[0m\n\u001b[1;32m     17\u001b[0m \u001b[39m        list of int: List of corresponding token IDs.\u001b[39;00m\n\u001b[1;32m     18\u001b[0m \u001b[39m    \"\"\"\u001b[39;00m\n\u001b[0;32m---> 19\u001b[0m     encoding \u001b[39m=\u001b[39m tiktoken\u001b[39m.\u001b[39;49mencoding_for_model(model)\n\u001b[1;32m     20\u001b[0m     \u001b[39mreturn\u001b[39;00m encoding\u001b[39m.\u001b[39mencode(\u001b[39mstr\u001b[39m)\n",
      "File \u001b[0;32m~/anaconda3/envs/llmtime/lib/python3.9/site-packages/tiktoken/model.py:101\u001b[0m, in \u001b[0;36mencoding_for_model\u001b[0;34m(model_name)\u001b[0m\n\u001b[1;32m     96\u001b[0m \u001b[39mdef\u001b[39;00m \u001b[39mencoding_for_model\u001b[39m(model_name: \u001b[39mstr\u001b[39m) \u001b[39m-\u001b[39m\u001b[39m>\u001b[39m Encoding:\n\u001b[1;32m     97\u001b[0m \u001b[39m    \u001b[39m\u001b[39m\"\"\"Returns the encoding used by a model.\u001b[39;00m\n\u001b[1;32m     98\u001b[0m \n\u001b[1;32m     99\u001b[0m \u001b[39m    Raises a KeyError if the model name is not recognised.\u001b[39;00m\n\u001b[1;32m    100\u001b[0m \u001b[39m    \"\"\"\u001b[39;00m\n\u001b[0;32m--> 101\u001b[0m     \u001b[39mreturn\u001b[39;00m get_encoding(encoding_name_for_model(model_name))\n",
      "File \u001b[0;32m~/anaconda3/envs/llmtime/lib/python3.9/site-packages/tiktoken/model.py:88\u001b[0m, in \u001b[0;36mencoding_name_for_model\u001b[0;34m(model_name)\u001b[0m\n\u001b[1;32m     85\u001b[0m             \u001b[39mreturn\u001b[39;00m model_encoding_name\n\u001b[1;32m     87\u001b[0m \u001b[39mif\u001b[39;00m encoding_name \u001b[39mis\u001b[39;00m \u001b[39mNone\u001b[39;00m:\n\u001b[0;32m---> 88\u001b[0m     \u001b[39mraise\u001b[39;00m \u001b[39mKeyError\u001b[39;00m(\n\u001b[1;32m     89\u001b[0m         \u001b[39mf\u001b[39m\u001b[39m\"\u001b[39m\u001b[39mCould not automatically map \u001b[39m\u001b[39m{\u001b[39;00mmodel_name\u001b[39m}\u001b[39;00m\u001b[39m to a tokeniser. \u001b[39m\u001b[39m\"\u001b[39m\n\u001b[1;32m     90\u001b[0m         \u001b[39m\"\u001b[39m\u001b[39mPlease use `tiktoken.get_encoding` to explicitly get the tokeniser you expect.\u001b[39m\u001b[39m\"\u001b[39m\n\u001b[1;32m     91\u001b[0m     ) \u001b[39mfrom\u001b[39;00m \u001b[39mNone\u001b[39;00m\n\u001b[1;32m     93\u001b[0m \u001b[39mreturn\u001b[39;00m encoding_name\n",
      "\u001b[0;31mKeyError\u001b[0m: 'Could not automatically map text-davinci-004 to a tokeniser. Please use `tiktoken.get_encoding` to explicitly get the tokeniser you expect.'"
     ]
    }
   ],
   "source": [
    "datasets = get_datasets()\n",
    "ds_name = 'AirPassengersDataset'\n",
    "\n",
    "data = datasets[ds_name]\n",
    "train, test = data # or change to your own data\n",
    "out = {}\n",
    "for model in model_names: # GPT-4 takes a about a minute to run\n",
    "    model_hypers[model].update({'dataset_name': ds_name}) # for promptcast\n",
    "    hypers = list(grid_iter(model_hypers[model]))\n",
    "    num_samples = 10\n",
    "    pred_dict = get_autotuned_predictions_data(train, test, hypers, num_samples, model_predict_fns[model], verbose=False, parallel=False)\n",
    "    out[model] = pred_dict\n",
    "    plot_preds(train, test, pred_dict, model, show_samples=True)"
   ]
  }
 ],
 "metadata": {
  "kernelspec": {
   "display_name": "fspace",
   "language": "python",
   "name": "python3"
  },
  "language_info": {
   "codemirror_mode": {
    "name": "ipython",
    "version": 3
   },
   "file_extension": ".py",
   "mimetype": "text/x-python",
   "name": "python",
   "nbconvert_exporter": "python",
   "pygments_lexer": "ipython3",
   "version": "3.9.18"
  },
  "vscode": {
   "interpreter": {
    "hash": "9436057e92285046d415c34e216bd357b01decd87fa7e06f42744a4b160880c3"
   }
  }
 },
 "nbformat": 4,
 "nbformat_minor": 5
}
